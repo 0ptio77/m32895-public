{
 "cells": [
  {
   "cell_type": "markdown",
   "metadata": {},
   "source": [
    "# <u>Tut_1.1</u>"
   ]
  },
  {
   "cell_type": "markdown",
   "metadata": {},
   "source": [
    "## Learning outcomes"
   ]
  },
  {
   "cell_type": "markdown",
   "metadata": {},
   "source": [
    "* Understand a high-level structure of the course\n",
    "* Set up and get familiar with coding environment\n",
    "* Learn and understand **absolutely** necessary routines (*commands to be executed before and after each class*)\n",
    "* **markdown** syntax\n",
    "* Reflection on what is 'big data' and why do we need it\n",
    "* Why Python?\n",
    "* Modules, libraries and frameworks\n",
    "* 1<sup>st</sup> look at a python program structure (how it is organised, formatting, reserved words and naming conventions)\n",
    "* DRY principle\n",
    "* Errors\n",
    "* `print()` statement\n"
   ]
  },
  {
   "cell_type": "markdown",
   "metadata": {},
   "source": [
    "---"
   ]
  },
  {
   "cell_type": "markdown",
   "metadata": {},
   "source": [
    "## Course Structure\n",
    "* Before the **consolidation week**: python fundamentals and essentials specific for **big data** applications.\n",
    "    * 2 classes per week, 2 hours each class. <u>N.b. Each class will cover it's own topic. Meaning, Thursday class is **not** a repetition of a content from Monday.</u>\n",
    "* After the **consolidation week**: principles of Big Data / Machine Learning / Data Mining: 2 hours of tutorials, 2 hours of drop-in.\n",
    "    * Image recognition using the Convolution Neural Network (CNN)\n",
    "    * Models for numerical data analysis (regression and classification tasks): Statitics, Linear Regression, Logistic Regression, Decision Tree, Ensemble Techniques\n",
    "    * Time series\n",
    "* If we have time (and energy) left: Model deployment using Flask, Streamlit, Heroku and/or Render.\n",
    "<br>\n",
    "<br>\n",
    "In **tut_1.1** the 1<sup>st</sup> is the week number; the 2<sup>nd</sup> number is the lecture of the week. Each tutorial has dedicated Jupyter notebook.\n",
    "\n"
   ]
  },
  {
   "cell_type": "markdown",
   "metadata": {},
   "source": [
    "## Assessment\n",
    "1. Set of exercises: **20%**\n",
    "2. Course work: **80%**\n",
    "<br>\n",
    "<br>\n",
    "Submission dates: **t.b.d.**\n"
   ]
  },
  {
   "cell_type": "markdown",
   "metadata": {},
   "source": [
    "---\n",
    "---"
   ]
  },
  {
   "cell_type": "markdown",
   "metadata": {},
   "source": [
    "## <u>First thing first: setting up working/coding environment</u>\n",
    "### **[https://github.com/](https://github.com/)**"
   ]
  },
  {
   "cell_type": "markdown",
   "metadata": {},
   "source": [
    "## Create GitHub repository\n",
    "* Give sensible name\n",
    "* Make it public\n",
    "* Add README\n",
    "* Add .gitignore from Python template\n",
    "* Licence is not required\n",
    "*You can customise your page later by adding photo, bio etc.*\n",
    "\n",
    "Do not login using your Google profile. Create a proper password and memorise it or write it down. You will need this password to provide third-party services access to your github account."
   ]
  },
  {
   "cell_type": "markdown",
   "metadata": {},
   "source": [
    "---"
   ]
  },
  {
   "cell_type": "markdown",
   "metadata": {},
   "source": [
    "## Create codespace (follow in-class instructions)"
   ]
  },
  {
   "cell_type": "markdown",
   "metadata": {},
   "source": [
    "---"
   ]
  },
  {
   "cell_type": "markdown",
   "metadata": {},
   "source": [
    "## `.gitignore` file"
   ]
  },
  {
   "cell_type": "markdown",
   "metadata": {},
   "source": [
    "---"
   ]
  },
  {
   "cell_type": "markdown",
   "metadata": {},
   "source": [
    "## Create and activate virtual environment (follow in-class instructions)"
   ]
  },
  {
   "cell_type": "markdown",
   "metadata": {},
   "source": [
    "---"
   ]
  },
  {
   "cell_type": "markdown",
   "metadata": {},
   "source": [
    "## Create `jupyter_notebooks` folder\n",
    "In this folder, create your 1<sup>st</sup> jupyter notebook. Use sensible name. It is recommended to create a notebook per tutorial. **Important**: <u>file name must have an extention **.ipynb**</u>\n",
    "\n",
    "In the file tab of VS Code select 'autosave'\n",
    "\n",
    "Select Kernel (follow in-class instructions)\n",
    "\n",
    "Upon the first `Code` cell execution, you will be asked to install Python kernel. Follow the in-class instructions (installation can take a while).\n",
    "\n",
    "*The name of the **Jupyter** project is the melt of names of three supported languages: <u>Julia, Python and R</u>. Jupyter notebook can also be run via Jupyter project, Anaconda or Google Colab*. VS Code is a universal IDE, can handle any other programming language and we are going to use it in this course."
   ]
  },
  {
   "cell_type": "markdown",
   "metadata": {},
   "source": [
    "---"
   ]
  },
  {
   "cell_type": "markdown",
   "metadata": {},
   "source": [
    "## Markdown syntax"
   ]
  },
  {
   "cell_type": "markdown",
   "metadata": {},
   "source": [
    "---"
   ]
  },
  {
   "cell_type": "markdown",
   "metadata": {},
   "source": [
    "## What is 'Big Data' and why do we need it?"
   ]
  },
  {
   "cell_type": "markdown",
   "metadata": {},
   "source": [
    "---"
   ]
  },
  {
   "cell_type": "markdown",
   "metadata": {},
   "source": [
    "## Why Python?\n",
    "* High-level programming language\n",
    "* Very clear syntax\n",
    "* Interpreted\n",
    "* Dynamically typed\n",
    "* Abundance of libraries for data handling, visualisation and modelling (we do not have much choice when it comes to data handling and machine learning)"
   ]
  },
  {
   "cell_type": "markdown",
   "metadata": {},
   "source": [
    "---"
   ]
  },
  {
   "cell_type": "markdown",
   "metadata": {},
   "source": [
    "## Libraries, modules and frameworks\n",
    "![Numpy](https://img.icons8.com/?size=100&id=aR9CXyMagKIS&format=png&color=000000)<br>\n",
    "![Pandas](https://img.icons8.com/?size=100&id=xSkewUSqtErH&format=png&color=000000)<br>\n",
    "![TensorFlow](https://img.icons8.com/?size=100&id=n3QRpDA7KZ7P&format=png&color=000000)<br>\n",
    "![Django](https://img.icons8.com/?size=100&id=qV-JzWYl9dzP&format=png&color=000000)"
   ]
  },
  {
   "cell_type": "markdown",
   "metadata": {},
   "source": [
    "---"
   ]
  },
  {
   "cell_type": "markdown",
   "metadata": {},
   "source": [
    "## 1<sup>st</sup> look at Python code"
   ]
  },
  {
   "cell_type": "code",
   "execution_count": null,
   "metadata": {},
   "outputs": [],
   "source": [
    "import os  # import libraries\n",
    "\n",
    "def remove_non_image_file(my_data_dir):\n",
    "    \"\"\"\n",
    "    Checks files in defined folder and removes those which are not images.\n",
    "    \"\"\"\n",
    "    image_extension = ('.png', '.jpg', '.jpeg')\n",
    "    folders = os.listdir(my_data_dir)\n",
    "    for folder in folders:\n",
    "        files = os.listdir(os.path.join(my_data_dir, folder))\n",
    "        i = []\n",
    "        j = []\n",
    "        for given_file in files:\n",
    "            if not given_file.lower().endswith(image_extension):\n",
    "                file_location = os.path.join(my_data_dir, folder, given_file)\n",
    "                print(file_location)\n",
    "                os.remove(file_location)  # remove non image file\n",
    "                i.append(1)\n",
    "            else:\n",
    "                j.append(1)\n",
    "                pass\n",
    "        print(f\"Folder: {folder} - has image file\", len(j))\n",
    "        print(f\"Folder: {folder} - has non-image file\", len(i))"
   ]
  },
  {
   "cell_type": "markdown",
   "metadata": {},
   "source": [
    "* `import` is always on top\n",
    "* **tab** sensitive. Do not use 4 times spaces!!! Just **tab**\n",
    "* naming_convention for variables:\n",
    "    * no spaces\n",
    "    * no reserved words\n",
    "    * no numbers as a first character\n",
    "* comments and docstrings: good practice to think of those who will read your code"
   ]
  },
  {
   "cell_type": "markdown",
   "metadata": {},
   "source": [
    "---"
   ]
  },
  {
   "cell_type": "markdown",
   "metadata": {},
   "source": [
    "## 'End of session' routine\n",
    "* `git add --all`\n",
    "* `git commit -m \"commit message\"`\n",
    "* `git push`\n",
    "\n",
    "(Sendint a parcel)\n",
    "\n",
    "`git status` - to see commit status (check uncommitted changes of your project)\n"
   ]
  },
  {
   "cell_type": "markdown",
   "metadata": {},
   "source": [
    "---"
   ]
  },
  {
   "cell_type": "markdown",
   "metadata": {},
   "source": [
    "## DRY"
   ]
  },
  {
   "cell_type": "markdown",
   "metadata": {},
   "source": [
    "---"
   ]
  },
  {
   "cell_type": "markdown",
   "metadata": {},
   "source": [
    "## Errors"
   ]
  },
  {
   "cell_type": "markdown",
   "metadata": {},
   "source": [
    "---"
   ]
  },
  {
   "cell_type": "markdown",
   "metadata": {},
   "source": [
    "### `print()` statement"
   ]
  },
  {
   "cell_type": "code",
   "execution_count": 3,
   "metadata": {},
   "outputs": [
    {
     "name": "stdout",
     "output_type": "stream",
     "text": [
      "test message\n",
      "4\n",
      "Today is Monday\n"
     ]
    }
   ],
   "source": [
    "print(\"test message\")  # Printing string\n",
    "print(2 + 2) # Printing result of equation\n",
    "week_day = \"Monday\"\n",
    "print(f\"Today is {week_day}\")  # String literals"
   ]
  },
  {
   "cell_type": "markdown",
   "metadata": {},
   "source": [
    "### Declaring variables\n",
    "`=` assignment operator"
   ]
  },
  {
   "cell_type": "code",
   "execution_count": 4,
   "metadata": {},
   "outputs": [],
   "source": [
    "a = 5  # think of it as a storage box\n",
    "my_name = \"Sergey\"\n",
    "my_object = {\n",
    "    \"flat\": 20,\n",
    "    \"type\": \"residential\"    \n",
    "}\n",
    "my_list = [3, 5, 6.4]"
   ]
  },
  {
   "cell_type": "markdown",
   "metadata": {},
   "source": [
    "### Data type"
   ]
  },
  {
   "cell_type": "markdown",
   "metadata": {},
   "source": [
    "![Data type](../assets/img/data_type.png)\n",
    "\n",
    "###### Sourse: Python essentials by [Code Institute](https://codeinstitute.net/)"
   ]
  },
  {
   "cell_type": "code",
   "execution_count": 5,
   "metadata": {},
   "outputs": [
    {
     "name": "stdout",
     "output_type": "stream",
     "text": [
      "<class 'str'>\n",
      "<class 'int'>\n",
      "<class 'float'>\n",
      "<class 'complex'>\n",
      "<class 'list'>\n",
      "<class 'tuple'>\n",
      "<class 'range'>\n",
      "<class 'dict'>\n",
      "<class 'set'>\n",
      "<class 'bool'>\n",
      "False\n"
     ]
    }
   ],
   "source": [
    "print(type(\"Hello, World!\"))\n",
    "print(type(42))\n",
    "print(type(3.145))\n",
    "print(type(1j))\n",
    "print(type([\"egg\", \"bacon\", \"spam\"]))\n",
    "print(type((\"egg\", \"bacon\", \"spam\")))\n",
    "print(type(range(6)))\n",
    "print(type({\"name\" : \"John\", \"age\" : 80}))\n",
    "print(type({\"egg\", \"bacon\", \"spam\"}))\n",
    "print(type(True))\n",
    "print(isinstance(3.14, int))\n"
   ]
  },
  {
   "cell_type": "markdown",
   "metadata": {},
   "source": [
    "### String"
   ]
  },
  {
   "cell_type": "code",
   "execution_count": 7,
   "metadata": {},
   "outputs": [
    {
     "name": "stdout",
     "output_type": "stream",
     "text": [
      "Then Mike said 'What is that?'\n",
      "It's a beautiful day\n"
     ]
    }
   ],
   "source": [
    "print(\"Then Mike said 'What is that?'\") # Note: usage of double and single quotes\n",
    "print(\"It's a beautiful day\")"
   ]
  },
  {
   "cell_type": "markdown",
   "metadata": {},
   "source": [
    "### Functions for converting between data types"
   ]
  },
  {
   "cell_type": "code",
   "execution_count": null,
   "metadata": {},
   "outputs": [],
   "source": [
    "int()  # Converts to an integer\n",
    "float()  # Converts to a floating-point number\n",
    "hex()  # Converts a number to a hexadecimal string\n",
    "oct()  # Converts a number to a octal string\n",
    "tuple()  #Converts to a tuple\n",
    "set()  # Converts to a set\n",
    "list()  # Converts to a list\n",
    "dict()  # Converts a tuple into a dictionary\n",
    "str()  # Converts a number into a string"
   ]
  },
  {
   "cell_type": "markdown",
   "metadata": {},
   "source": [
    "### Python arithmetic operators"
   ]
  },
  {
   "cell_type": "markdown",
   "metadata": {},
   "source": [
    "![Python arythmetic operators](../assets/img/arythmetic_operators.png)\n",
    "###### Sourse: Python essentials by [Code Institute](https://codeinstitute.net/)"
   ]
  },
  {
   "cell_type": "markdown",
   "metadata": {},
   "source": [
    "### String methods\n",
    "N.b. Difference in usage of function and method."
   ]
  },
  {
   "cell_type": "code",
   "execution_count": null,
   "metadata": {},
   "outputs": [],
   "source": [
    "my_string = \"test value\"\n",
    "\n",
    "my_string.capitalize()  # Capitalizes the first character of the string\n",
    "my_string.center()  # Centers string\n",
    "my_string.count()  # Returns a count of times a specified value occurs in the string\n",
    "my_string.encode()  # Returns an encoded version of the string (use decode() to decode)\n",
    "my_string.endswith()  # Returns True if the string ends with a specified suffix\n",
    "my_string.expandtabs()  # Sets the tab size in spaces of the string\n",
    "my_string.find()  # Returns the lowest index position of where a specified character was found\n",
    "my_string.index()  # Searches for a specified value and returns the position of where it was found or an error if not found\n",
    "my_string.isalnum()  # Returns True if all characters are alphanumeric\n",
    "my_string.isalpha()  # Returns True if all characters are alphabetic\n",
    "my_string.isdigit()  # Returns True if all characters are digits\n",
    "my_string.islower()  # Returns True if all characters are lower case\n",
    "my_string.isspace()  # Returns True if all characters are whitespace\n",
    "my_string.istitle()  # Returns True if the string is titlecased\n",
    "my_string.isupper()  # Returns True if all characters in the string are upper case\n",
    "my_string.join()  # concatenates string\n",
    "my_string.ljust()  # Returns a left justified version of the string\n",
    "my_string.lower()  # Converts a string into lower case\n",
    "my_string.lstrip()  # Returns a left trim version of the string\n",
    "my_string.partition()  # Returns a tuple where the string is parted into two strings and the separator\n",
    "my_string.replace()  # Returns a string where a old value is replaced with a new value\n",
    "my_string.rfind()  # Searches highest index in the string for a specified value\n",
    "my_string.rindex()  # Same but with error if nothing found\n",
    "my_string.rjust()  # Returns a right justified version of the string\n",
    "my_string.rpartition()  # Returns a tuple where the string is parted into three parts\n",
    "my_string.rsplit()  # Splits the string at the specified separator, and returns a list\n",
    "my_string.rstrip()  # Returns a right trim version of the string\n",
    "my_string.split()  # Splits the string at the specified separator, and returns a list\n",
    "my_string.splitlines()  # Splits the string at line breaks and returns a list\n",
    "my_string.startswith()  # Returns true if the string starts with the specified value\n",
    "my_string.strip()  # Returns a trimmed version of the string\n",
    "my_string.swapcase()  # Swaps cases, lower case becomes upper case and vice versa\n",
    "my_string.title()  # Converts the first character of each word to upper case\n",
    "my_string.translate()  # Returns a translated string\n",
    "my_string.upper()  # Converts a string into uppercase\n",
    "my_string.zfill()  # Fills the string with a specified number of 0 values at the beginning"
   ]
  },
  {
   "cell_type": "markdown",
   "metadata": {},
   "source": [
    "### Comparison operators\n"
   ]
  },
  {
   "cell_type": "code",
   "execution_count": 11,
   "metadata": {},
   "outputs": [
    {
     "name": "stdout",
     "output_type": "stream",
     "text": [
      "True\n",
      "False\n",
      "True\n",
      "True\n",
      "False\n"
     ]
    }
   ],
   "source": [
    "print('Hello, World!' == 'Hello, World!')\n",
    "print(2!=2)\n",
    "print([1,2]<[1,2,3])\n",
    "print(float(2)>=int(2))\n",
    "print('a'<'A') #This is False as 'a' is Unicode 97 where 'A' is 65\n"
   ]
  },
  {
   "cell_type": "markdown",
   "metadata": {},
   "source": [
    "### Logical operators\n",
    "Priority:\n",
    "1. not\n",
    "2. and\n",
    "3. or"
   ]
  },
  {
   "cell_type": "code",
   "execution_count": null,
   "metadata": {},
   "outputs": [],
   "source": [
    "print(True and True)\n",
    "print(True and False)\n",
    "print(True or False)\n",
    "print(not (4 < 5 and 4 < 10))"
   ]
  },
  {
   "cell_type": "markdown",
   "metadata": {},
   "source": [
    "### If-Else statements"
   ]
  },
  {
   "cell_type": "markdown",
   "metadata": {},
   "source": [
    "Boolean logic checked by `if` and `else` statements - **flow control by decision making**.\n",
    "\n",
    "![if-else statement](../assets/img/if_else.png)\n",
    "\n",
    "###### Sourse: Python essentials by [Code Institute](https://codeinstitute.net/)"
   ]
  },
  {
   "cell_type": "code",
   "execution_count": 14,
   "metadata": {},
   "outputs": [
    {
     "name": "stdout",
     "output_type": "stream",
     "text": [
      "10 is equal to 10\n"
     ]
    }
   ],
   "source": [
    "number = int(input(\"Enter a number:\"))  # input() function\n",
    "\n",
    "if number == 10:\n",
    "    print(f\"{number} is equal to 10\")\n",
    "else:\n",
    "    print(f\"{number} is not equal to 10\")\n",
    "    \n",
    "    # Note: formatting of the snippet\n",
    "    # !! if-else statement can be nested !! This will be important for an in-class exersise."
   ]
  },
  {
   "cell_type": "markdown",
   "metadata": {},
   "source": [
    "---"
   ]
  },
  {
   "cell_type": "markdown",
   "metadata": {},
   "source": [
    "## In-class exercise: Movie ticket price calculator\n",
    "#### Objective:\n",
    "Practice using print statements, logical operators, string methods, data type conversion, and `if-else` statements.\n",
    "#### Scenario:\n",
    "The cinema charges different prices based on the customer's age:\n",
    "* Children (0-5 years old): Free\n",
    "* Kids (6-12 years old): $5\n",
    "* Teens (13-17 years old): $8\n",
    "* Adults (18-59 years old): $12\n",
    "* Seniors (60+ years old): Free\n",
    "Your task is to ask the user for their age, determine the correct ticket price, and display it.\n",
    "#### Instructions:\n",
    "1. Prompt the user to enter their age.\n",
    "2. Convert the input to an integer (handle input correctly).\n",
    "3. Use if and else statements to determine the ticket price.\n",
    "4. Print a message displaying the user's age and the corresponding ticket price.\n",
    "5. Use string methods (e.g., .strip(), but not compulsory) to clean up user input.\n"
   ]
  },
  {
   "cell_type": "markdown",
   "metadata": {},
   "source": [
    "### Solution"
   ]
  },
  {
   "cell_type": "code",
   "execution_count": 15,
   "metadata": {},
   "outputs": [
    {
     "name": "stdout",
     "output_type": "stream",
     "text": [
      "Since you are 55 years old, your ticket price is $12.\n"
     ]
    }
   ],
   "source": [
    "# Ask the user for their age\n",
    "age = input(\"Enter your age: \").strip()\n",
    "\n",
    "# Convert age to integer\n",
    "age = int(age)\n",
    "\n",
    "# Determine the ticket price using only if-else statements\n",
    "if age <= 5:\n",
    "    price = \"free!\"\n",
    "else:\n",
    "    if age <= 12:\n",
    "        price = \"$5\"\n",
    "    else:\n",
    "        if age <= 17:\n",
    "            price = \"$8\"\n",
    "        else:\n",
    "            if age <= 59:\n",
    "                price = \"$12\"\n",
    "            else:\n",
    "                price = \"free!\"\n",
    "\n",
    "# Print the result\n",
    "print(f\"Since you are {age} years old, your ticket price is {price}.\")\n"
   ]
  },
  {
   "cell_type": "markdown",
   "metadata": {},
   "source": [
    "---"
   ]
  },
  {
   "cell_type": "markdown",
   "metadata": {},
   "source": [
    "## Homework\n",
    "* Study the structure and options of [GitHub](https://github.com/)\n",
    "* Get familiar with VS Code codespace\n",
    "* Get familiar with Jupyter Notebook\n",
    "* Get familiar with markdown synthax"
   ]
  },
  {
   "cell_type": "markdown",
   "metadata": {},
   "source": []
  }
 ],
 "metadata": {
  "kernelspec": {
   "display_name": "venv",
   "language": "python",
   "name": "python3"
  },
  "language_info": {
   "codemirror_mode": {
    "name": "ipython",
    "version": 3
   },
   "file_extension": ".py",
   "mimetype": "text/x-python",
   "name": "python",
   "nbconvert_exporter": "python",
   "pygments_lexer": "ipython3",
   "version": "3.12.8"
  }
 },
 "nbformat": 4,
 "nbformat_minor": 2
}
